{
 "cells": [
  {
   "cell_type": "code",
   "execution_count": 8,
   "id": "6797f73d-7eec-4133-b8e2-87a41ca9123d",
   "metadata": {},
   "outputs": [],
   "source": [
    "import pandas as pd\n",
    "import re\n",
    "import cdx_toolkit\n",
    "from tqdm import tqdm\n",
    "from pyprojroot import here"
   ]
  },
  {
   "cell_type": "markdown",
   "id": "884ad8c9-97f1-41a4-9c74-df07983dc400",
   "metadata": {},
   "source": [
    "# Extract archive"
   ]
  },
  {
   "cell_type": "markdown",
   "id": "c5719687-1d16-493f-a042-66a74223dbd1",
   "metadata": {},
   "source": [
    "Extract archived URLs from [Bundesverband Carsharing](https://carsharing.de/)."
   ]
  },
  {
   "cell_type": "code",
   "execution_count": 73,
   "id": "af172fd0-1f53-4c6b-a226-89d7084e75ab",
   "metadata": {},
   "outputs": [],
   "source": [
    "# Define url for which captures shall be extracted from web archives\n",
    "url = \"carsharing.de/cs-standorte\""
   ]
  },
  {
   "cell_type": "code",
   "execution_count": 74,
   "id": "ff7ef103-79ec-446c-9dfc-bb62819ed433",
   "metadata": {},
   "outputs": [],
   "source": [
    "# Instantiate cdx client\n",
    "source = 'ia'\n",
    "client = cdx_toolkit.CDXFetcher(source=source)       # define client for fetching data from source (ia: Internet Archive, cc: Common Crawl)\n",
    "limit = 1000                                         # define maximum number of captures that is suppossed to be retrieved for each year-url from the respective archive"
   ]
  },
  {
   "cell_type": "code",
   "execution_count": 75,
   "id": "b3044981-dbdd-4bd7-9ecd-1adbe8ee5709",
   "metadata": {},
   "outputs": [],
   "source": [
    "# A 'warcinfo' record describes the records that follow it, up through end of file, end of input, or until next 'warcinfo' record.\n",
    "# Typically, this appears once and at the beginning of a WARC file. \n",
    "# For a web archive, it often contains information about the web crawl which generated the following records.\n",
    "warcinfo = {\n",
    "    'software': 'pypi_cdx_toolkit iter-and-warc',\n",
    "    'isPartOf': 'CARSHARING_BCS',\n",
    "    'description': 'warc extraction',\n",
    "    'format': 'WARC file version 1.0',\n",
    "}"
   ]
  },
  {
   "cell_type": "code",
   "execution_count": 66,
   "id": "99c3c42b-04a2-4e10-9521-02abf34049e8",
   "metadata": {},
   "outputs": [],
   "source": [
    "# Define years for which web archives shall be searched for captures from the above url\n",
    "years = range(2006, 2022) # years for which information of newly registered cars exist"
   ]
  },
  {
   "cell_type": "code",
   "execution_count": 13,
   "id": "613ae6b2-2e7c-4ed3-b544-c1270fcbfafc",
   "metadata": {},
   "outputs": [
    {
     "data": {
      "text/plain": [
       "'Q:\\\\Meine Bibliotheken\\\\Research\\\\01_Promotion\\\\05_Ideas\\\\08_Carsharing\\\\carsharing\\\\01_Data\\\\03_Carsharing\\\\02_BCS_Archived'"
      ]
     },
     "execution_count": 13,
     "metadata": {},
     "output_type": "execute_result"
    }
   ],
   "source": [
    "# Set directory where to save the captrures\n",
    "import os \n",
    "os.chdir(here(r'01_Data\\03_Carsharing\\02_BCS_Archived'))"
   ]
  },
  {
   "cell_type": "code",
   "execution_count": 76,
   "id": "5d049d73-ffd4-434e-9b67-a88649327877",
   "metadata": {},
   "outputs": [
    {
     "name": "stderr",
     "output_type": "stream",
     "text": [
      "0it [00:00, ?it/s]\n"
     ]
    },
    {
     "name": "stdout",
     "output_type": "stream",
     "text": [
      "2006\n"
     ]
    },
    {
     "name": "stderr",
     "output_type": "stream",
     "text": [
      "0it [00:00, ?it/s]\n"
     ]
    },
    {
     "name": "stdout",
     "output_type": "stream",
     "text": [
      "2007\n"
     ]
    },
    {
     "name": "stderr",
     "output_type": "stream",
     "text": [
      "0it [00:00, ?it/s]\n"
     ]
    },
    {
     "name": "stdout",
     "output_type": "stream",
     "text": [
      "2008\n"
     ]
    },
    {
     "name": "stderr",
     "output_type": "stream",
     "text": [
      "0it [00:00, ?it/s]\n"
     ]
    },
    {
     "name": "stdout",
     "output_type": "stream",
     "text": [
      "2009\n"
     ]
    },
    {
     "name": "stderr",
     "output_type": "stream",
     "text": [
      "0it [00:00, ?it/s]\n"
     ]
    },
    {
     "name": "stdout",
     "output_type": "stream",
     "text": [
      "2010\n"
     ]
    },
    {
     "name": "stderr",
     "output_type": "stream",
     "text": [
      "0it [00:00, ?it/s]\n"
     ]
    },
    {
     "name": "stdout",
     "output_type": "stream",
     "text": [
      "2011\n"
     ]
    },
    {
     "name": "stderr",
     "output_type": "stream",
     "text": [
      "0it [00:00, ?it/s]\n"
     ]
    },
    {
     "name": "stdout",
     "output_type": "stream",
     "text": [
      "2012\n"
     ]
    },
    {
     "name": "stderr",
     "output_type": "stream",
     "text": [
      "1it [00:07,  7.57s/it]\n"
     ]
    },
    {
     "name": "stdout",
     "output_type": "stream",
     "text": [
      "2013\n"
     ]
    },
    {
     "name": "stderr",
     "output_type": "stream",
     "text": [
      "1it [00:04,  4.37s/it]\n"
     ]
    },
    {
     "name": "stdout",
     "output_type": "stream",
     "text": [
      "2014\n"
     ]
    },
    {
     "name": "stderr",
     "output_type": "stream",
     "text": [
      "1it [00:04,  4.71s/it]\n"
     ]
    },
    {
     "name": "stdout",
     "output_type": "stream",
     "text": [
      "2015\n"
     ]
    },
    {
     "name": "stderr",
     "output_type": "stream",
     "text": [
      "1it [00:05,  5.07s/it]\n"
     ]
    },
    {
     "name": "stdout",
     "output_type": "stream",
     "text": [
      "2016\n"
     ]
    },
    {
     "name": "stderr",
     "output_type": "stream",
     "text": [
      "1it [00:04,  4.98s/it]\n"
     ]
    },
    {
     "name": "stdout",
     "output_type": "stream",
     "text": [
      "2017\n"
     ]
    },
    {
     "name": "stderr",
     "output_type": "stream",
     "text": [
      "0it [00:00, ?it/s]\n"
     ]
    },
    {
     "name": "stdout",
     "output_type": "stream",
     "text": [
      "2018\n"
     ]
    },
    {
     "name": "stderr",
     "output_type": "stream",
     "text": [
      "0it [00:00, ?it/s]\n"
     ]
    },
    {
     "name": "stdout",
     "output_type": "stream",
     "text": [
      "2019\n"
     ]
    },
    {
     "name": "stderr",
     "output_type": "stream",
     "text": [
      "0it [00:00, ?it/s]\n"
     ]
    },
    {
     "name": "stdout",
     "output_type": "stream",
     "text": [
      "2020\n"
     ]
    },
    {
     "name": "stderr",
     "output_type": "stream",
     "text": [
      "0it [00:00, ?it/s]"
     ]
    },
    {
     "name": "stdout",
     "output_type": "stream",
     "text": [
      "2021\n",
      "Wall time: 44.6 s\n"
     ]
    },
    {
     "name": "stderr",
     "output_type": "stream",
     "text": [
      "\n"
     ]
    }
   ],
   "source": [
    "%%time\n",
    "for year in years:\n",
    "    \n",
    "    # Create object for writing archive captures into .arc files\n",
    "    writer = cdx_toolkit.warc.CDXToolkitWARCWriter(\n",
    "        prefix='BCS_' + source,  # first part of .warc file where warc records will be stored\n",
    "        subprefix=str(year),     # second part of .warc file where warc records will be stored\n",
    "        info=warcinfo,           \n",
    "        size=1000000000,         # once the .warc file exceeds 1 GB of size a new .warc file will be created for succeeding records\n",
    "        gzip=True)\n",
    "    \n",
    "    capture = client.iter(url, from_ts=str(year), to=str(year), limit=limit, collapse='urlkey', verbose='v', filter=['status:200'])\n",
    "    for obj in tqdm(capture):\n",
    "        url = obj['url']\n",
    "        status = obj['status']\n",
    "        timestamp = obj['timestamp']\n",
    "\n",
    "        try:\n",
    "            record = obj.fetch_warc_record()\n",
    "            writer.write_record(record)\n",
    "                        \n",
    "        # Single captures can run into errors:\n",
    "        # Except RuntimeError\n",
    "        except RuntimeError:\n",
    "            print('Skipping capture for RuntimeError 404: %s %s', url, timestamp)\n",
    "            continue                \n",
    "                    \n",
    "        # Except encoding error that typically arises if no content found on webpage\n",
    "        except UnicodeEncodeError:\n",
    "            print('Skipping capture for UnicodeEncodeError: %s %s', url, timestamp)\n",
    "            continue\n",
    "            \n",
    "    print(year)"
   ]
  },
  {
   "cell_type": "markdown",
   "id": "b0faebd1-e452-452d-9c7e-49fc67637974",
   "metadata": {},
   "source": [
    "# Analyze archive "
   ]
  },
  {
   "cell_type": "markdown",
   "id": "420e6d0c-c9a0-4400-b223-0221a045bb30",
   "metadata": {},
   "source": [
    "Analyze whether carsharing locations can be extracted from the archived websites "
   ]
  },
  {
   "cell_type": "code",
   "execution_count": 31,
   "id": "3227064f-a318-4ab5-a0fe-8bf9444d499c",
   "metadata": {},
   "outputs": [],
   "source": [
    "from warcio.archiveiterator import ArchiveIterator # iterate over .warc files\n",
    "from bs4 import BeautifulSoup                      # html parsing"
   ]
  },
  {
   "cell_type": "code",
   "execution_count": 77,
   "id": "fd18c1af-aa3a-4ef2-9839-cca0c331014f",
   "metadata": {},
   "outputs": [],
   "source": [
    "#files = [str(year) + '-000000' for year in range(2006, 2022)]\n",
    "files = ['2013-000000', '2014-000000', '2015-000000', '2016-000000', '2017-000000']"
   ]
  },
  {
   "cell_type": "code",
   "execution_count": 78,
   "id": "ba99aff5-90f6-46ed-b972-1bcf10b6810b",
   "metadata": {},
   "outputs": [],
   "source": [
    "source = 'ia'"
   ]
  },
  {
   "cell_type": "code",
   "execution_count": 79,
   "id": "293e564f-03bd-440f-be44-71099958f356",
   "metadata": {},
   "outputs": [],
   "source": [
    "df_header = pd.DataFrame()\n",
    "\n",
    "for file in files:\n",
    "    with open(here(r'./01_Data/03_Carsharing/02_BCS_Archived' + '/BCS_' + source + '-' + str(file) + '.extracted.warc.gz') , 'rb') as stream:\n",
    "        for record in ArchiveIterator(stream):\n",
    "            if record.rec_headers['WARC-Type'] == 'warcinfo':\n",
    "                pass\n",
    "            else:\n",
    "                temp = sorted([(i[0], [i[1]]) for i in record.rec_headers.headers if i[0] in ['WARC-Date', 'Content-Type', 'Content-Length', 'WARC-Source-URI']], key=lambda tup: tup[0], reverse=True) \n",
    "                df_temp = pd.DataFrame.from_dict(dict(temp))\n",
    "                df_header = df_header.append(df_temp)\n",
    "    stream.close()\n",
    "df_header.reset_index(drop=True, inplace=True)"
   ]
  },
  {
   "cell_type": "code",
   "execution_count": 80,
   "id": "44d48677-d907-4377-b316-78300da44e40",
   "metadata": {},
   "outputs": [
    {
     "data": {
      "text/plain": [
       "(5, 4)"
      ]
     },
     "execution_count": 80,
     "metadata": {},
     "output_type": "execute_result"
    }
   ],
   "source": [
    "df_header.shape"
   ]
  },
  {
   "cell_type": "code",
   "execution_count": 81,
   "id": "cab74fe3-b48f-4d7f-bbe2-8f3e10a35482",
   "metadata": {},
   "outputs": [
    {
     "data": {
      "text/plain": [
       "array(['https://web.archive.org/web/20130827214227id_/http%3A//www.carsharing.de%3A80/cs-standorte',\n",
       "       'https://web.archive.org/web/20140108061440id_/http%3A//www.carsharing.de%3A80/cs-standorte',\n",
       "       'https://web.archive.org/web/20150113164251id_/http%3A//carsharing.de/cs-standorte',\n",
       "       'https://web.archive.org/web/20160116011315id_/http%3A//www.carsharing.de/cs-standorte',\n",
       "       'https://web.archive.org/web/20170101213506id_/http%3A//www.carsharing.de%3A80/cs-standorte'],\n",
       "      dtype=object)"
      ]
     },
     "execution_count": 81,
     "metadata": {},
     "output_type": "execute_result"
    }
   ],
   "source": [
    "df_header['WARC-Source-URI'].values"
   ]
  }
 ],
 "metadata": {
  "jupytext": {
   "formats": "ipynb,auto:light"
  },
  "kernelspec": {
   "display_name": "Python 3",
   "language": "python",
   "name": "python3"
  },
  "language_info": {
   "codemirror_mode": {
    "name": "ipython",
    "version": 3
   },
   "file_extension": ".py",
   "mimetype": "text/x-python",
   "name": "python",
   "nbconvert_exporter": "python",
   "pygments_lexer": "ipython3",
   "version": "3.9.5"
  }
 },
 "nbformat": 4,
 "nbformat_minor": 5
}
